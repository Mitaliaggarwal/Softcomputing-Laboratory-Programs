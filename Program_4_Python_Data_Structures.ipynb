{
  "nbformat": 4,
  "nbformat_minor": 0,
  "metadata": {
    "colab": {
      "name": "Program-4 Python Data Structures",
      "provenance": []
    },
    "kernelspec": {
      "name": "python3",
      "display_name": "Python 3"
    }
  },
  "cells": [
    {
      "cell_type": "markdown",
      "metadata": {
        "id": "XFv2jSp1HuTu"
      },
      "source": [
        "## Aim: Write a program to implement the various type of data structures available in python and their operations."
      ]
    },
    {
      "cell_type": "markdown",
      "metadata": {
        "id": "_8ItTTBCIDja"
      },
      "source": [
        "1. LIST"
      ]
    },
    {
      "cell_type": "code",
      "metadata": {
        "id": "uxZ2tSc4GBVn",
        "outputId": "7bfacda7-34a5-4224-decc-b793d46479f9",
        "colab": {
          "base_uri": "https://localhost:8080/",
          "height": 68
        }
      },
      "source": [
        "list = [1, \"helloworld\", 1+1]\n",
        "print(list)\n",
        "list[1]\n",
        "list.append(\"MODY UNIVERSITY\")\n",
        "print(list)\n",
        "list.pop()\n",
        "print(list)\n"
      ],
      "execution_count": null,
      "outputs": [
        {
          "output_type": "stream",
          "text": [
            "[1, 'helloworld', 2]\n",
            "[1, 'helloworld', 2, 'MODY UNIVERSITY']\n",
            "[1, 'helloworld', 2]\n"
          ],
          "name": "stdout"
        }
      ]
    },
    {
      "cell_type": "markdown",
      "metadata": {
        "id": "etEsCaOWIFiZ"
      },
      "source": [
        "2. DICTIONARY"
      ]
    },
    {
      "cell_type": "code",
      "metadata": {
        "id": "4cMBZag4H6zc",
        "outputId": "6e52e785-8b6b-4ae6-f167-74fc88d09731",
        "colab": {
          "base_uri": "https://localhost:8080/",
          "height": 187
        }
      },
      "source": [
        "dictionary = { 1:'a', 2:'b'}\n",
        "print(dictionary)\n",
        "print(dictionary.keys())\n",
        "print(dictionary.values())\n",
        "for index, value in enumerate(dictionary): \n",
        "    print (index, value , dictionary[value])\n",
        "for i in dictionary:\n",
        "    print (\"%d %s\" %(i, dictionary[i]))\n",
        "print(1 in dictionary)\n",
        "del dictionary[1]\n",
        "print(dictionary)\n",
        "print(1 in dictionary)"
      ],
      "execution_count": null,
      "outputs": [
        {
          "output_type": "stream",
          "text": [
            "{1: 'a', 2: 'b'}\n",
            "dict_keys([1, 2])\n",
            "dict_values(['a', 'b'])\n",
            "0 1 a\n",
            "1 2 b\n",
            "1 a\n",
            "2 b\n",
            "True\n",
            "{2: 'b'}\n",
            "False\n"
          ],
          "name": "stdout"
        }
      ]
    },
    {
      "cell_type": "markdown",
      "metadata": {
        "id": "xNVjIiRCIIvp"
      },
      "source": [
        "3. TUPLE"
      ]
    },
    {
      "cell_type": "code",
      "metadata": {
        "id": "9o6FuK1CH-nd",
        "outputId": "4841ec22-187f-4424-bba4-6c67f8963c79",
        "colab": {
          "base_uri": "https://localhost:8080/",
          "height": 68
        }
      },
      "source": [
        "tuple = (1,\"ananya\", 1+2)\n",
        "print(tuple)\n",
        "print(tuple[1])\n",
        "tuple[2]\n",
        "\n"
      ],
      "execution_count": null,
      "outputs": [
        {
          "output_type": "stream",
          "text": [
            "(1, 'ananya', 3)\n",
            "ananya\n"
          ],
          "name": "stdout"
        },
        {
          "output_type": "execute_result",
          "data": {
            "text/plain": [
              "3"
            ]
          },
          "metadata": {
            "tags": []
          },
          "execution_count": 3
        }
      ]
    },
    {
      "cell_type": "markdown",
      "metadata": {
        "id": "l-ZbydbgILVf"
      },
      "source": [
        "4. SET"
      ]
    },
    {
      "cell_type": "code",
      "metadata": {
        "id": "Wj5n8snNIAQy",
        "outputId": "b9c081fe-73be-4ee8-bfdb-c49a0bc314d7",
        "colab": {
          "base_uri": "https://localhost:8080/",
          "height": 51
        }
      },
      "source": [
        "set = set()\n",
        "for i in range(1,10):\n",
        "    set.add(i)\n",
        "print(set)\n",
        "print(\"set =\",set)\n",
        "\n"
      ],
      "execution_count": null,
      "outputs": [
        {
          "output_type": "stream",
          "text": [
            "{1, 2, 3, 4, 5, 6, 7, 8, 9}\n",
            "set = {1, 2, 3, 4, 5, 6, 7, 8, 9}\n"
          ],
          "name": "stdout"
        }
      ]
    },
    {
      "cell_type": "code",
      "metadata": {
        "id": "SExZo-5IIBMt"
      },
      "source": [
        ""
      ],
      "execution_count": null,
      "outputs": []
    }
  ]
}